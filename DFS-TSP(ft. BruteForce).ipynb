{
 "cells": [
  {
   "cell_type": "markdown",
   "id": "5fc9e639-7a85-44f0-a8b9-17e2c345a473",
   "metadata": {},
   "source": [
    "### Some sources are listed down from where the logic was taken and some chuncks of code for DFS-MST\n",
    "\n",
    "\n",
    "1. [Traveling Salesman Problem (TSP) in Python - GeeksforGeeks](https://www.geeksforgeeks.org/traveling-salesman-problem-tsp-in-python/?utm_source=chatgpt.com)\n",
    "2. [Traveling Salesman Problem (TSP) Implementation - GeeksforGeeks](https://www.geeksforgeeks.org/traveling-salesman-problem-tsp-implementation/?utm_source=chatgpt.com)\n",
    "3. [Traveling Salesman Problem with Python: Greedy and Brute Force - AskPython](https://www.askpython.com/python/examples/travelling-salesman-problem-python?utm_source=chatgpt.com)\n",
    "4. [Solving the Traveling Salesman Problem in Python - GuruSoftware](https://www.gurusoftware.com/solving-the-traveling-salesman-problem-in-python/?utm_source=chatgpt.com)\n",
    "5. [Minimum Cost Path in a Directed Graph via Given Set of Intermediate Nodes - GeeksforGeeks](https://www.geeksforgeeks.org/minimum-cost-path-in-a-directed-graph-via-given-set-of-intermediate-nodes/?utm_source=chatgpt.com)\n",
    "6. [Python TSP Solver - A pure Python library for solving TSP](https://github.com/fillipe-gsm/python-tsp?utm_source=chatgpt.com)\n",
    "7. [pyTSP - 2D and 3D visualizations of TSP heuristics](https://github.com/afourmy/pyTSP)\n",
    "8. [TSP Meta-Heuristic Algorithms - Tabu Search, Genetic Algorithm, Simulated Annealing](https://github.com/topics/travelling-salesman-problem?l=python&utm_source=chatgpt.com)\n",
    "9. [GitHub - Arkay92/TSP-Christofides-Algorithm](https://github.com/Arkay92/TSP-Christofides-Algorithm?utm_source=chatgpt.com)\n",
    "\n",
    "\n"
   ]
  },
  {
   "cell_type": "code",
   "execution_count": null,
   "id": "bfd4bd8b-0d99-4b86-a156-99aae2519e9d",
   "metadata": {},
   "outputs": [],
   "source": []
  },
  {
   "cell_type": "code",
   "execution_count": 1,
   "id": "0b986b37-3fb6-4d73-aa2f-cc9791904200",
   "metadata": {},
   "outputs": [],
   "source": [
    "import numpy as np\n",
    "import pandas as pd\n",
    "import random\n",
    "import heapq\n",
    "import time\n",
    "import matplotlib.pyplot as plt"
   ]
  },
  {
   "cell_type": "code",
   "execution_count": 2,
   "id": "55e87274-166a-4c61-9ada-57689487ac2c",
   "metadata": {},
   "outputs": [],
   "source": [
    "start_time = time.time()\n"
   ]
  },
  {
   "cell_type": "code",
   "execution_count": 3,
   "id": "86a0e8a0-571b-4189-805e-871fdd499af2",
   "metadata": {},
   "outputs": [],
   "source": [
    "df = pd.read_csv('Data Set For Test Task - Software Engineer & AI Role (With DSL).csv')\n",
    "D_node = df.iloc[0:49, :]\n",
    "N = len(D_node)"
   ]
  },
  {
   "cell_type": "code",
   "execution_count": 4,
   "id": "eeb4f98f-0cba-4e0c-b92c-a0339ed17d82",
   "metadata": {},
   "outputs": [],
   "source": [
    "# Distance formula \n",
    "def euclidean_distance(x1, y1, x2, y2):\n",
    "    return np.sqrt((x2 - x1)**2 + (y2 - y1)**2)\n"
   ]
  },
  {
   "cell_type": "code",
   "execution_count": 5,
   "id": "01a36b77-2a9c-4b8e-8ca3-06f4e831630b",
   "metadata": {},
   "outputs": [],
   "source": [
    "# initializing N*N size matric\n",
    "distance_matrix = np.zeros((N, N))\n",
    "\n",
    "# using a nested loop to take the values if x1,x2,y1 and y2 from the DF. i variable in the loop is for the source and j is for the destination node\n",
    "for i in range(N):\n",
    "    for j in range(N):\n",
    "        if i != j:\n",
    "            distance_matrix[i, j] = euclidean_distance(df.loc[i, 'X'], df.loc[i, 'Y'], df.loc[j, 'X'], df.loc[j, 'Y'])\n",
    "           \n"
   ]
  },
  {
   "cell_type": "code",
   "execution_count": 6,
   "id": "22464529-77ac-4a9f-81c1-81a30298ff5b",
   "metadata": {},
   "outputs": [],
   "source": [
    "visited = [False] * N \n",
    "min_heap = [(0, 0)] \n",
    "mst_edges = []  "
   ]
  },
  {
   "cell_type": "code",
   "execution_count": 7,
   "id": "33913433-93f1-4df3-8589-9f4eb6c80950",
   "metadata": {},
   "outputs": [],
   "source": [
    "# Prims Algorithm \n",
    "#Prim’s algorithm is also a Greedy algorithm. \n",
    "#This algorithm always starts with a single node and moves through several adjacent nodes,\n",
    "# to explore all of the connected edges along the way.\n",
    "\n",
    "while min_heap:\n",
    "    dist, node = heapq.heappop(min_heap)  # Extract the node with the smallest distance\n",
    "   \n",
    "    # It will be skiped if the visited[] == true\n",
    "    if visited[node]:\n",
    "        continue  \n",
    "    \n",
    "    visited[node] = True\n",
    "    if dist != 0:\n",
    "        mst_edges.append((prev_node, node))  # Store MST edge\n",
    "    \n",
    "    # Add neighbors to the heap\n",
    "    for neighbor in range(N):\n",
    "        if not visited[neighbor]:\n",
    "            heapq.heappush(min_heap, (distance_matrix[node, neighbor], neighbor))\n",
    "            prev_node = node\n"
   ]
  },
  {
   "cell_type": "code",
   "execution_count": 8,
   "id": "c6fe400c-dd22-4d8d-81e3-3fbe5d8a03e9",
   "metadata": {},
   "outputs": [],
   "source": [
    "#Creating a adjjency list\n",
    "adj_list = {i: [] for i in range(N)}\n",
    "for u, v in mst_edges:\n",
    "    adj_list[u].append(v)\n",
    "    adj_list[v].append(u)\n"
   ]
  },
  {
   "cell_type": "code",
   "execution_count": 9,
   "id": "59fa4288-c659-4aff-8213-ca2e7b5a5e47",
   "metadata": {},
   "outputs": [],
   "source": [
    "#Func for DFS \n",
    "def dfs(node, visited, order):\n",
    "    visited[node] = True\n",
    "    order.append(node)\n",
    "    \n",
    "    for neighbor in adj_list[node]:\n",
    "        if not visited[neighbor]:\n",
    "            dfs(neighbor, visited, order)\n"
   ]
  },
  {
   "cell_type": "code",
   "execution_count": 10,
   "id": "6e0b7db9-8fce-4321-9866-5af4ba603321",
   "metadata": {},
   "outputs": [],
   "source": [
    "visited_dfs = [False] * N\n",
    "dfs_order = []\n",
    "dfs(0, visited_dfs, dfs_order)\n"
   ]
  },
  {
   "cell_type": "code",
   "execution_count": 11,
   "id": "699822fc-1648-43eb-8a56-e82ae3931f47",
   "metadata": {},
   "outputs": [],
   "source": [
    "tsp_order = dfs_order + [dfs_order[0]]  \n"
   ]
  },
  {
   "cell_type": "code",
   "execution_count": 12,
   "id": "8595d005-306f-4b1f-ba4f-5294747212a4",
   "metadata": {},
   "outputs": [],
   "source": [
    "total_distance = 0\n",
    "for i in range(len(tsp_order) - 1):\n",
    "    total_distance += distance_matrix[tsp_order[i], tsp_order[i + 1]]\n"
   ]
  },
  {
   "cell_type": "code",
   "execution_count": 13,
   "id": "3561444f-ce32-4b55-9953-e3bdba220e8c",
   "metadata": {},
   "outputs": [
    {
     "name": "stdout",
     "output_type": "stream",
     "text": [
      "DFS Traversal Order (TSP Approximation): [0, 20, 24, 19, 22, 27, 15, 14, 28, 13, 8, 4, 3, 5, 12, 37, 38, 46, 47, 48, 45, 43, 42, 44, 33, 32, 2, 7, 11, 10, 9, 6, 21, 1, 17, 16, 18, 23, 25, 26, 29, 34, 30, 36, 35, 31, 39, 40, 41, 0]\n",
      "Total Distance of the Approximate TSP Path: 195.9465549519243\n",
      "Execution time: 0.00000 seconds\n"
     ]
    }
   ],
   "source": [
    "start_time = time.time()\n",
    "print(\"DFS Traversal Order (TSP Approximation):\", tsp_order)\n",
    "print(\"Total Distance of the Approximate TSP Path:\", total_distance)\n",
    "end_time = time.time()\n",
    "print(f\"Execution time: {end_time - start_time:.5f} seconds\")"
   ]
  },
  {
   "cell_type": "markdown",
   "id": "74a6bc65-0957-41b4-aa55-76e2c2702a0a",
   "metadata": {},
   "source": [
    "### Applying Brute Force for Petrol Nodes"
   ]
  },
  {
   "cell_type": "code",
   "execution_count": 14,
   "id": "b21f4a27-8588-4026-b18e-ac11c81c1bb8",
   "metadata": {},
   "outputs": [],
   "source": [
    "# making a set of 9 nodes\n",
    "arr = [tsp_order[i:i + 9] for i in range(0, len(tsp_order), 9)]"
   ]
  },
  {
   "cell_type": "code",
   "execution_count": 15,
   "id": "32be658a-6e0f-4ffb-984c-a0b21e01aec2",
   "metadata": {},
   "outputs": [
    {
     "data": {
      "text/plain": [
       "array([101, 102, 103, 104, 105, 106, 107, 108, 109, 110, 111, 112, 113,\n",
       "       114, 115], dtype=int64)"
      ]
     },
     "execution_count": 15,
     "metadata": {},
     "output_type": "execute_result"
    }
   ],
   "source": [
    "# Extract petrol stations\n",
    "P_node = df.iloc[49:, 0:1]  \n",
    "petrol_stations = P_node.values.flatten()  # df to array\n",
    "petrol_stations\n",
    "\n"
   ]
  },
  {
   "cell_type": "code",
   "execution_count": 16,
   "id": "803fa6ca-0906-4b71-87fc-6819599b8cb4",
   "metadata": {
    "scrolled": true
   },
   "outputs": [],
   "source": [
    "# from the tsp algo the shortest path found will used\n",
    "#all the nodes at the end and start of the list will be taken to calculate the distance from D_Node to P_Node\n",
    "result = []\n",
    "for i, row in enumerate(arr):\n",
    "    if i == 0:  # First row: exclude first element\n",
    "        result.append(row[-1])\n",
    "    elif i == len(arr) - 1:  # Last row: exclude last element\n",
    "        result.append(row[0])\n",
    "    else:\n",
    "        result.append(row[0])\n",
    "        result.append(row[-1])\n",
    "        \n",
    "\n"
   ]
  },
  {
   "cell_type": "code",
   "execution_count": 17,
   "id": "40639fc5-1888-443f-b5b9-4c39754881b5",
   "metadata": {},
   "outputs": [
    {
     "name": "stdout",
     "output_type": "stream",
     "text": [
      "[105, 115, 102, 106, 108]\n"
     ]
    }
   ],
   "source": [
    "# Function to get X, Y coordinates from df\n",
    "def get_coordinates(node_id):\n",
    "    row = df[df['Stop-ID'] == node_id]\n",
    "    if not row.empty:\n",
    "        return row.iloc[0]['X'], row.iloc[0]['Y']\n",
    "    return None \n",
    "\n",
    "# Function to calculate Euclidean distance\n",
    "def euclidean_distance(id1, id2):\n",
    "    crd1 = get_coordinates(id1)\n",
    "    crd2 = get_coordinates(id2)\n",
    "    if crd1 and crd2:    #if coordinates exists\n",
    "        return np.sqrt((crd2[0] - crd1[0]) ** 2 + (crd2[1] - crd1[1]) ** 2)\n",
    "    return 0  \n",
    "\n",
    "# Calculate distances\n",
    "min_distances = []\n",
    "sum=0\n",
    "\n",
    "for i in range(len(result) - 1):  # Iterate through result nodes\n",
    "    if i%2 ==0: #As I want even indexes \n",
    "                  \n",
    "        min_distance = float('inf')  # initializing min_distance with infinite\n",
    "        best_j = None  \n",
    "        for j in range(len(petrol_stations)):  # Iterate through petrol stations\n",
    "            d1 = euclidean_distance(result[i], petrol_stations[j])  # result[i] → petrol_station[j]\n",
    "            d2 = euclidean_distance(petrol_stations[j], result[i + 1])  # petrol_station[j] → result[i+1]\n",
    "            t_distance = d1 + d2  # Sum of both distances\n",
    "            \n",
    "            if t_distance < min_distance:  # If this distance is smaller, update\n",
    "                min_distance = t_distance\n",
    "                best_j = j  # Update best j index\n",
    "        \n",
    "        # Store the minimum distance and the best j index for the current i\n",
    "        min_distances.append( petrol_stations[best_j])\n",
    "        sum+=min_distance\n",
    "\n",
    "# Print the minimum distances and corresponding j indices\n",
    "print(min_distances)\n",
    "\n"
   ]
  },
  {
   "cell_type": "code",
   "execution_count": 18,
   "id": "3d41d273-6650-4283-9fb4-a441fd933a8f",
   "metadata": {},
   "outputs": [],
   "source": [
    "\n",
    "result = []\n",
    "\n",
    "# Loop through the rows of 'ar' and append the corresponding min_distance value to each row\n",
    "for i, row in enumerate(arr):\n",
    "    if i < len(min_distances):  # Ensure only add values from min_distance when i is valid\n",
    "        new_row = row[:]  # Make a copy of the row\n",
    "        new_row.append(min_distances[i])  # Append the second value from min_distance\n",
    "        result.append(new_row)\n",
    "    else:\n",
    "        result.append(row[:])  # If no matching min_distance, just add the row as is\n",
    "\n"
   ]
  },
  {
   "cell_type": "code",
   "execution_count": 19,
   "id": "5ffdd6ad-fcc0-45fa-a592-cafe474720aa",
   "metadata": {},
   "outputs": [
    {
     "data": {
      "text/plain": [
       "224.74847396749706"
      ]
     },
     "execution_count": 19,
     "metadata": {},
     "output_type": "execute_result"
    }
   ],
   "source": [
    "# total_distance\n",
    "# sum\n",
    "TotalCost=total_distance+sum\n",
    "TotalCost"
   ]
  },
  {
   "cell_type": "code",
   "execution_count": 20,
   "id": "9323bc69-4e02-4983-a218-b3ebfa09690e",
   "metadata": {},
   "outputs": [
    {
     "name": "stdout",
     "output_type": "stream",
     "text": [
      "[0, 20, 24, 19, 22, 27, 15, 14, 28, 105, 13, 8, 4, 3, 5, 12, 37, 38, 46, 115, 47, 48, 45, 43, 42, 44, 33, 32, 2, 102, 7, 11, 10, 9, 6, 21, 1, 17, 16, 106, 18, 23, 25, 26, 29, 34, 30, 36, 35, 108, 31, 39, 40, 41, 0]\n"
     ]
    }
   ],
   "source": [
    "#makeing the result from 2 Dimensional to 1 dimentional \n",
    "flat_array = [item for sublist in result for item in sublist]\n",
    "print(flat_array)\n",
    "\n"
   ]
  },
  {
   "cell_type": "code",
   "execution_count": 21,
   "id": "02aee97b-3560-41a7-b6bf-766fefca952d",
   "metadata": {},
   "outputs": [],
   "source": [
    "df = pd.read_csv('Data Set For Test Task - Software Engineer & AI Role (With DSL).csv')"
   ]
  },
  {
   "cell_type": "code",
   "execution_count": 22,
   "id": "171ee168-157e-4ffa-b5f4-58d38f0fef99",
   "metadata": {
    "scrolled": true
   },
   "outputs": [
    {
     "data": {
      "image/png": "[encoded data removed]",
      "text/plain": [
       "<Figure size 1000x600 with 1 Axes>"
      ]
     },
     "metadata": {},
     "output_type": "display_data"
    }
   ],
   "source": [
    "final_array = flat_array\n",
    "\n",
    "fig, ax = plt.subplots(figsize=(10, 6))\n",
    "# Initialize previous point to None\n",
    "prev_x, prev_y = None, None\n",
    "# Loop to plot the points\n",
    "for i, value in enumerate(final_array):\n",
    "    matching_row = df[df['Stop-ID'] == value]\n",
    "    if not matching_row.empty:  # If a matching Stop-ID is found\n",
    "        x = matching_row['X'].values[0]\n",
    "        y = matching_row['Y'].values[0]\n",
    "                \n",
    "        # Plot points based on the conditions:\n",
    "        if i == 0 or i == len(final_array) - 1:  # First and last points in red\n",
    "            ax.plot(x, y, 'ro')  # Red dot\n",
    "        elif value < 50:  # Points with Stop-ID less than 50 in blue\n",
    "            ax.plot(x, y, 'bo')  # Blue dot\n",
    "        elif value > 100:  # Points with Stop-ID greater than 100 in green\n",
    "            ax.plot(x, y, 'go')  # Green dot\n",
    "        \n",
    "        # Draw a line to the previous point if it's not the first point\n",
    "        if prev_x is not None and prev_y is not None:\n",
    "            ax.plot([prev_x, x], [prev_y, y], 'k-', lw=1)  # Black line between points\n",
    "        \n",
    "        # Update the previous point\n",
    "        prev_x, prev_y = x, y\n",
    "    else:\n",
    "        print(\"Not Found\", {value})\n",
    "\n",
    "# Add labels and title\n",
    "ax.set_xlabel('X Coordinate')\n",
    "ax.set_ylabel('Y Coordinate')\n",
    "ax.set_title(f'Tour Distance {TotalCost}')\n",
    "\n",
    "# Display the plot\n",
    "plt.grid(True)\n",
    "plt.show()\n"
   ]
  },
  {
   "cell_type": "code",
   "execution_count": 23,
   "id": "67978eb0-2f85-4429-976f-b21ecd7225bb",
   "metadata": {},
   "outputs": [
    {
     "name": "stdout",
     "output_type": "stream",
     "text": [
      "TSP Approximation: [0, 20, 24, 19, 22, 27, 15, 14, 28, 13, 8, 4, 3, 5, 12, 37, 38, 46, 47, 48, 45, 43, 42, 44, 33, 32, 2, 7, 11, 10, 9, 6, 21, 1, 17, 16, 18, 23, 25, 26, 29, 34, 30, 36, 35, 31, 39, 40, 41, 0]\n",
      "TSP Approximation + Brute_Force: [0, 20, 24, 19, 22, 27, 15, 14, 28, 105, 13, 8, 4, 3, 5, 12, 37, 38, 46, 115, 47, 48, 45, 43, 42, 44, 33, 32, 2, 102, 7, 11, 10, 9, 6, 21, 1, 17, 16, 106, 18, 23, 25, 26, 29, 34, 30, 36, 35, 108, 31, 39, 40, 41, 0]\n",
      "Total Cost (TSP + Petrol): 224.74847396749706\n"
     ]
    }
   ],
   "source": [
    "# **Final Outputs**\n",
    "print(\"TSP Approximation:\", tsp_order)\n",
    "print(\"TSP Approximation + Brute_Force:\", final_array)\n",
    "print(\"Total Cost (TSP + Petrol):\", TotalCost)\n"
   ]
  },
  {
   "cell_type": "code",
   "execution_count": null,
   "id": "61205b22-093d-457a-abee-10e72603f55b",
   "metadata": {},
   "outputs": [],
   "source": []
  },
  {
   "cell_type": "code",
   "execution_count": null,
   "id": "8c494552-c57d-464d-80bc-5261e5e5956c",
   "metadata": {},
   "outputs": [],
   "source": []
  },
  {
   "cell_type": "code",
   "execution_count": null,
   "id": "d8b83eac-c7bf-4438-bfeb-e0453160886b",
   "metadata": {},
   "outputs": [],
   "source": []
  }
 ],
 "metadata": {
  "kernelspec": {
   "display_name": "Python 3 (ipykernel)",
   "language": "python",
   "name": "python3"
  },
  "language_info": {
   "codemirror_mode": {
    "name": "ipython",
    "version": 3
   },
   "file_extension": ".py",
   "mimetype": "text/x-python",
   "name": "python",
   "nbconvert_exporter": "python",
   "pygments_lexer": "ipython3",
   "version": "3.11.7"
  }
 },
 "nbformat": 4,
 "nbformat_minor": 5
}
